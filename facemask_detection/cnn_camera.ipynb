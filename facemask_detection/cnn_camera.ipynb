{
 "cells": [
  {
   "cell_type": "code",
   "execution_count": 1,
   "metadata": {},
   "outputs": [],
   "source": [
    "from tensorflow.keras.models import load_model\n",
    "import cv2\n",
    "import numpy as np"
   ]
  },
  {
   "cell_type": "code",
   "execution_count": 2,
   "metadata": {},
   "outputs": [],
   "source": [
    "model = load_model('facemask_detection.model')\n",
    "\n",
    "fase_cls = cv2.CascadeClassifier('haarcascade_frontalface_default.xml')\n",
    "source = cv2.VideoCapture(0)\n",
    "\n",
    "dict_labels = {0:'no mask', 1:'mask'}\n",
    "dict_color = {0:(0,0,255), 1:(0,255,0)}"
   ]
  },
  {
   "cell_type": "code",
   "execution_count": null,
   "metadata": {},
   "outputs": [],
   "source": [
    "while True:\n",
    "    \n",
    "    ret, img = source.read()\n",
    "    gray = cv2.cvtColor(img, cv2.COLOR_BGR2GRAY)\n",
    "    faces = fase_cls.detectMultiScale(gray, 1.3, 5)\n",
    "    \n",
    "    for x,y,w,h in faces:\n",
    "        \n",
    "        face_img = gray[y:y+w,x:x+w]\n",
    "        resized = cv2.resize(face_img, (100, 100))\n",
    "        normalized = resized/255\n",
    "        reshaped = np.reshape(normalized, (1, 100, 100, 1))\n",
    "        result = model.predict(reshaped)\n",
    "        \n",
    "        label = 1 if result >= 0.5 else 0\n",
    "        cv2.rectangle(img, (x, y), (x+w, y+w), dict_color[label], 2)\n",
    "        cv2.rectangle(img, (x, y-40), (x+w, y), dict_color[label], -1)\n",
    "        txt = f'{dict_labels[label]} {round(result[0][0], 4)}'\n",
    "        cv2.putText(img, txt, (x, y-10), cv2.FONT_HERSHEY_SIMPLEX, 0.8, (255,255,255), 2)\n",
    "        \n",
    "    \n",
    "    cv2.imshow('LIVE', img)\n",
    "    key = cv2.waitKey(1)\n",
    "    \n",
    "    if key == 27:\n",
    "        break\n",
    "    \n",
    "cv2.destroyAllWindows()\n",
    "source.release()"
   ]
  },
  {
   "cell_type": "code",
   "execution_count": null,
   "metadata": {},
   "outputs": [],
   "source": []
  }
 ],
 "metadata": {
  "kernelspec": {
   "display_name": "Python 3.8.5 ('base')",
   "language": "python",
   "name": "python3"
  },
  "language_info": {
   "codemirror_mode": {
    "name": "ipython",
    "version": 3
   },
   "file_extension": ".py",
   "mimetype": "text/x-python",
   "name": "python",
   "nbconvert_exporter": "python",
   "pygments_lexer": "ipython3",
   "version": "3.8.5"
  },
  "orig_nbformat": 4,
  "vscode": {
   "interpreter": {
    "hash": "1f84cd7dc70bd38e61056750c394ccddb30affa3f3cd619ddf7b3574cda6aa78"
   }
  }
 },
 "nbformat": 4,
 "nbformat_minor": 2
}
